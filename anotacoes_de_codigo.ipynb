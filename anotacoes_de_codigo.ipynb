{
 "metadata": {
  "language_info": {
   "codemirror_mode": {
    "name": "ipython",
    "version": 3
   },
   "file_extension": ".py",
   "mimetype": "text/x-python",
   "name": "python",
   "nbconvert_exporter": "python",
   "pygments_lexer": "ipython3",
   "version": "3.8.6-final"
  },
  "orig_nbformat": 2,
  "kernelspec": {
   "name": "python38264bitdatavirtualenv84a0fc09cc9c4ba695f672fb187ad9ee",
   "display_name": "Python 3.8.2 64-bit ('data': virtualenv)",
   "language": "python"
  }
 },
 "nbformat": 4,
 "nbformat_minor": 2,
 "cells": [
  {
   "cell_type": "code",
   "execution_count": 20,
   "metadata": {},
   "outputs": [
    {
     "output_type": "stream",
     "name": "stdout",
     "text": [
      "Requirement already satisfied: nbformat in /home/sergio/.local/lib/python3.8/site-packages (5.1.2)\n",
      "Requirement already satisfied: plotly in /home/sergio/.local/lib/python3.8/site-packages (4.14.3)\n",
      "Requirement already satisfied: matplotlib in /usr/lib/python3/dist-packages (3.3.0)\n",
      "Requirement already satisfied: traitlets>=4.1 in /home/sergio/.local/lib/python3.8/site-packages (from nbformat) (4.3.3)\n",
      "Requirement already satisfied: ipython-genutils in /home/sergio/.local/lib/python3.8/site-packages (from nbformat) (0.2.0)\n",
      "Requirement already satisfied: jupyter-core in /home/sergio/.local/lib/python3.8/site-packages (from nbformat) (4.7.1)\n",
      "Requirement already satisfied: jsonschema!=2.5.0,>=2.4 in /home/sergio/.local/lib/python3.8/site-packages (from nbformat) (3.2.0)\n",
      "Requirement already satisfied: six in /home/sergio/.local/lib/python3.8/site-packages (from plotly) (1.11.0)\n",
      "Requirement already satisfied: retrying>=1.3.3 in /home/sergio/.local/lib/python3.8/site-packages (from plotly) (1.3.3)\n",
      "Requirement already satisfied: decorator in /home/sergio/.local/lib/python3.8/site-packages (from traitlets>=4.1->nbformat) (4.4.2)\n",
      "Requirement already satisfied: attrs>=17.4.0 in /home/sergio/.local/lib/python3.8/site-packages (from jsonschema!=2.5.0,>=2.4->nbformat) (19.3.0)\n",
      "Requirement already satisfied: setuptools in /usr/lib/python3/dist-packages (from jsonschema!=2.5.0,>=2.4->nbformat) (49.3.1)\n",
      "Requirement already satisfied: pyrsistent>=0.14.0 in /home/sergio/.local/lib/python3.8/site-packages (from jsonschema!=2.5.0,>=2.4->nbformat) (0.16.0)\n"
     ]
    }
   ],
   "source": [
    "!pip install nbformat plotly matplotlib"
   ]
  },
  {
   "cell_type": "code",
   "execution_count": 27,
   "metadata": {},
   "outputs": [],
   "source": [
    "import pandas as pd\n",
    "import numpy as np\n",
    "#pd.options.plotting.backend = \"plotly\"\n",
    "pd.options.plotting.backend = \"matplotlib\""
   ]
  },
  {
   "source": [
    "# Mostra os tipos de dados disponiveis"
   ],
   "cell_type": "markdown",
   "metadata": {}
  },
  {
   "cell_type": "code",
   "execution_count": 28,
   "metadata": {},
   "outputs": [
    {
     "output_type": "execute_result",
     "data": {
      "text/plain": [
       "{'Character': 'c',\n",
       " 'Integer': 'bhilqp',\n",
       " 'UnsignedInteger': 'BHILQP',\n",
       " 'Float': 'efdg',\n",
       " 'Complex': 'FDG',\n",
       " 'AllInteger': 'bBhHiIlLqQpP',\n",
       " 'AllFloat': 'efdgFDG',\n",
       " 'Datetime': 'Mm',\n",
       " 'All': '?bhilqpBHILQPefdgFDGSUVOMm'}"
      ]
     },
     "metadata": {},
     "execution_count": 28
    }
   ],
   "source": [
    "np.typecodes"
   ]
  },
  {
   "cell_type": "code",
   "execution_count": 29,
   "metadata": {},
   "outputs": [
    {
     "output_type": "execute_result",
     "data": {
      "text/plain": [
       "{'int': [numpy.int8, numpy.int16, numpy.int32, numpy.int64],\n",
       " 'uint': [numpy.uint8, numpy.uint16, numpy.uint32, numpy.uint64],\n",
       " 'float': [numpy.float16, numpy.float32, numpy.float64, numpy.float128],\n",
       " 'complex': [numpy.complex64, numpy.complex128, numpy.complex256],\n",
       " 'others': [bool, object, bytes, str, numpy.void]}"
      ]
     },
     "metadata": {},
     "execution_count": 29
    }
   ],
   "source": [
    "np.sctypes"
   ]
  },
  {
   "cell_type": "code",
   "execution_count": 30,
   "metadata": {},
   "outputs": [],
   "source": [
    "# Exemplo\n",
    "\n",
    "# projecao = pd.read_csv('projecao.csv')\n",
    "# projecao['RFID'] = projecao.RFID.astype('str')\n",
    "# projecao['tagNumber'] = projecao.tagNumber.astype('str')\n",
    "# projecao['month'] = projecao.month.astype('uint8')\n",
    "# projecao['farm_id'] = projecao.farm_id.astype('uint8')\n",
    "# projecao['age_in_months'] = projecao.age_in_months.astype('uint8')\n",
    "# projecao['gmd'] = projecao.gmd.astype('float32')\n",
    "# projecao['date'] = projecao.date.astype('M')"
   ]
  },
  {
   "cell_type": "code",
   "execution_count": 31,
   "metadata": {},
   "outputs": [
    {
     "output_type": "stream",
     "name": "stdout",
     "text": [
      "<class 'pandas.core.frame.DataFrame'>\nRangeIndex: 5 entries, 0 to 4\nData columns (total 2 columns):\n #   Column     Non-Null Count  Dtype \n---  ------     --------------  ----- \n 0   categoria  5 non-null      object\n 1   count      5 non-null      int64 \ndtypes: int64(1), object(1)\nmemory usage: 208.0+ bytes\n"
     ]
    }
   ],
   "source": [
    "df = pd.DataFrame([\n",
    "    {'categoria':'um','count':1},\n",
    "    {'categoria':'um','count':2},\n",
    "    {'categoria':'dois','count':34},\n",
    "    {'categoria':'tres','count':12},\n",
    "    {'categoria':'tres','count':3},\n",
    "])\n",
    "df.info()"
   ]
  }
 ]
}